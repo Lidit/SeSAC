{
 "cells": [
  {
   "cell_type": "code",
   "execution_count": 4,
   "id": "initial_id",
   "metadata": {
    "collapsed": true,
    "ExecuteTime": {
     "end_time": "2023-11-20T01:13:23.831520Z",
     "start_time": "2023-11-20T01:13:23.822325Z"
    }
   },
   "outputs": [],
   "source": [
    "import numpy as np\n",
    "import torch\n",
    "import torch.nn as nn\n",
    "from torch.utils.data import TensorDataset, DataLoader\n",
    "from sklearn.datasets import make_moons\n",
    "import matplotlib.pyplot as plt\n",
    "from torch.optim import SGD"
   ]
  },
  {
   "cell_type": "code",
   "execution_count": 45,
   "outputs": [],
   "source": [
    "class NonLinear(nn.Module):\n",
    "    def __init__(self):\n",
    "        super (NonLinear, self).__init__()\n",
    "        \n",
    "        self.fc1 = nn.Linear(in_features=2, out_features=3)\n",
    "        self.act1 = nn.Sigmoid()\n",
    "        \n",
    "        self.fc2 = nn.Linear(in_features=3, out_features=1)\n",
    "        self.act2 = nn.Sigmoid()\n",
    "    \n",
    "    def forward(self, x):\n",
    "        x = self.fc1(x)\n",
    "        x = self.act1(x)\n",
    "        \n",
    "        x = self.fc2(x)\n",
    "        pred = self.act2(x)\n",
    "        \n",
    "        return pred\n",
    "        "
   ],
   "metadata": {
    "collapsed": false,
    "ExecuteTime": {
     "end_time": "2023-11-20T01:29:36.846900Z",
     "start_time": "2023-11-20T01:29:36.837199Z"
    }
   },
   "id": "3d2bcd504fba4b6d"
  },
  {
   "cell_type": "code",
   "execution_count": 52,
   "outputs": [
    {
     "name": "stdout",
     "output_type": "stream",
     "text": [
      "mps\n"
     ]
    }
   ],
   "source": [
    "N_SAMPLES = 1000\n",
    "BATCH_SIZE = 8\n",
    "LR = 0.1\n",
    "EPOCHS = 10\n",
    "\n",
    "X, y = make_moons(n_samples=N_SAMPLES, noise=0.2)\n",
    "\n",
    "if torch.cuda.is_available():\n",
    "    DEVICE = 'cuda'\n",
    "elif torch.backends.mps.is_available():\n",
    "    DEVICE = 'mps'\n",
    "else:\n",
    "    DEVICE = 'cpu'\n",
    "\n",
    "print(DEVICE)\n",
    "\n",
    "model = NonLinear().to(DEVICE)\n",
    "loss_function = nn.BCELoss()\n",
    "optimizer = SGD(model.parameters(), lr=LR)\n",
    "\n",
    "dataset = TensorDataset(torch.FloatTensor(X), torch.FloatTensor(y))\n",
    "data_loader = DataLoader(dataset, batch_size=BATCH_SIZE)\n",
    "losses = list()\n",
    "accs = list()\n"
   ],
   "metadata": {
    "collapsed": false,
    "ExecuteTime": {
     "end_time": "2023-11-20T01:34:56.084810Z",
     "start_time": "2023-11-20T01:34:56.064164Z"
    }
   },
   "id": "d5d1cfbce39a9315"
  },
  {
   "cell_type": "code",
   "execution_count": 64,
   "outputs": [
    {
     "name": "stdout",
     "output_type": "stream",
     "text": [
      "torch.Size([8, 1])\n",
      "torch.Size([8])\n"
     ]
    },
    {
     "ename": "ValueError",
     "evalue": "Using a target size (torch.Size([8])) that is different to the input size (torch.Size([8, 1])) is deprecated. Please ensure they have the same size.",
     "output_type": "error",
     "traceback": [
      "\u001B[0;31m---------------------------------------------------------------------------\u001B[0m",
      "\u001B[0;31mValueError\u001B[0m                                Traceback (most recent call last)",
      "Cell \u001B[0;32mIn[64], line 10\u001B[0m\n\u001B[1;32m      8\u001B[0m \u001B[38;5;28mprint\u001B[39m(pred\u001B[38;5;241m.\u001B[39mshape)\n\u001B[1;32m      9\u001B[0m \u001B[38;5;28mprint\u001B[39m(y\u001B[38;5;241m.\u001B[39mshape)\n\u001B[0;32m---> 10\u001B[0m loss \u001B[38;5;241m=\u001B[39m \u001B[43mloss_function\u001B[49m\u001B[43m(\u001B[49m\u001B[43mpred\u001B[49m\u001B[43m,\u001B[49m\u001B[43m \u001B[49m\u001B[43my\u001B[49m\u001B[43m)\u001B[49m\n\u001B[1;32m     12\u001B[0m optimizer\u001B[38;5;241m.\u001B[39mzero_grad()\n\u001B[1;32m     13\u001B[0m loss\u001B[38;5;241m.\u001B[39mbackward()\n",
      "File \u001B[0;32m/usr/local/anaconda3/envs/SeSAC/lib/python3.10/site-packages/torch/nn/modules/module.py:1518\u001B[0m, in \u001B[0;36mModule._wrapped_call_impl\u001B[0;34m(self, *args, **kwargs)\u001B[0m\n\u001B[1;32m   1516\u001B[0m     \u001B[38;5;28;01mreturn\u001B[39;00m \u001B[38;5;28mself\u001B[39m\u001B[38;5;241m.\u001B[39m_compiled_call_impl(\u001B[38;5;241m*\u001B[39margs, \u001B[38;5;241m*\u001B[39m\u001B[38;5;241m*\u001B[39mkwargs)  \u001B[38;5;66;03m# type: ignore[misc]\u001B[39;00m\n\u001B[1;32m   1517\u001B[0m \u001B[38;5;28;01melse\u001B[39;00m:\n\u001B[0;32m-> 1518\u001B[0m     \u001B[38;5;28;01mreturn\u001B[39;00m \u001B[38;5;28;43mself\u001B[39;49m\u001B[38;5;241;43m.\u001B[39;49m\u001B[43m_call_impl\u001B[49m\u001B[43m(\u001B[49m\u001B[38;5;241;43m*\u001B[39;49m\u001B[43margs\u001B[49m\u001B[43m,\u001B[49m\u001B[43m \u001B[49m\u001B[38;5;241;43m*\u001B[39;49m\u001B[38;5;241;43m*\u001B[39;49m\u001B[43mkwargs\u001B[49m\u001B[43m)\u001B[49m\n",
      "File \u001B[0;32m/usr/local/anaconda3/envs/SeSAC/lib/python3.10/site-packages/torch/nn/modules/module.py:1527\u001B[0m, in \u001B[0;36mModule._call_impl\u001B[0;34m(self, *args, **kwargs)\u001B[0m\n\u001B[1;32m   1522\u001B[0m \u001B[38;5;66;03m# If we don't have any hooks, we want to skip the rest of the logic in\u001B[39;00m\n\u001B[1;32m   1523\u001B[0m \u001B[38;5;66;03m# this function, and just call forward.\u001B[39;00m\n\u001B[1;32m   1524\u001B[0m \u001B[38;5;28;01mif\u001B[39;00m \u001B[38;5;129;01mnot\u001B[39;00m (\u001B[38;5;28mself\u001B[39m\u001B[38;5;241m.\u001B[39m_backward_hooks \u001B[38;5;129;01mor\u001B[39;00m \u001B[38;5;28mself\u001B[39m\u001B[38;5;241m.\u001B[39m_backward_pre_hooks \u001B[38;5;129;01mor\u001B[39;00m \u001B[38;5;28mself\u001B[39m\u001B[38;5;241m.\u001B[39m_forward_hooks \u001B[38;5;129;01mor\u001B[39;00m \u001B[38;5;28mself\u001B[39m\u001B[38;5;241m.\u001B[39m_forward_pre_hooks\n\u001B[1;32m   1525\u001B[0m         \u001B[38;5;129;01mor\u001B[39;00m _global_backward_pre_hooks \u001B[38;5;129;01mor\u001B[39;00m _global_backward_hooks\n\u001B[1;32m   1526\u001B[0m         \u001B[38;5;129;01mor\u001B[39;00m _global_forward_hooks \u001B[38;5;129;01mor\u001B[39;00m _global_forward_pre_hooks):\n\u001B[0;32m-> 1527\u001B[0m     \u001B[38;5;28;01mreturn\u001B[39;00m \u001B[43mforward_call\u001B[49m\u001B[43m(\u001B[49m\u001B[38;5;241;43m*\u001B[39;49m\u001B[43margs\u001B[49m\u001B[43m,\u001B[49m\u001B[43m \u001B[49m\u001B[38;5;241;43m*\u001B[39;49m\u001B[38;5;241;43m*\u001B[39;49m\u001B[43mkwargs\u001B[49m\u001B[43m)\u001B[49m\n\u001B[1;32m   1529\u001B[0m \u001B[38;5;28;01mtry\u001B[39;00m:\n\u001B[1;32m   1530\u001B[0m     result \u001B[38;5;241m=\u001B[39m \u001B[38;5;28;01mNone\u001B[39;00m\n",
      "File \u001B[0;32m/usr/local/anaconda3/envs/SeSAC/lib/python3.10/site-packages/torch/nn/modules/loss.py:618\u001B[0m, in \u001B[0;36mBCELoss.forward\u001B[0;34m(self, input, target)\u001B[0m\n\u001B[1;32m    617\u001B[0m \u001B[38;5;28;01mdef\u001B[39;00m \u001B[38;5;21mforward\u001B[39m(\u001B[38;5;28mself\u001B[39m, \u001B[38;5;28minput\u001B[39m: Tensor, target: Tensor) \u001B[38;5;241m-\u001B[39m\u001B[38;5;241m>\u001B[39m Tensor:\n\u001B[0;32m--> 618\u001B[0m     \u001B[38;5;28;01mreturn\u001B[39;00m \u001B[43mF\u001B[49m\u001B[38;5;241;43m.\u001B[39;49m\u001B[43mbinary_cross_entropy\u001B[49m\u001B[43m(\u001B[49m\u001B[38;5;28;43minput\u001B[39;49m\u001B[43m,\u001B[49m\u001B[43m \u001B[49m\u001B[43mtarget\u001B[49m\u001B[43m,\u001B[49m\u001B[43m \u001B[49m\u001B[43mweight\u001B[49m\u001B[38;5;241;43m=\u001B[39;49m\u001B[38;5;28;43mself\u001B[39;49m\u001B[38;5;241;43m.\u001B[39;49m\u001B[43mweight\u001B[49m\u001B[43m,\u001B[49m\u001B[43m \u001B[49m\u001B[43mreduction\u001B[49m\u001B[38;5;241;43m=\u001B[39;49m\u001B[38;5;28;43mself\u001B[39;49m\u001B[38;5;241;43m.\u001B[39;49m\u001B[43mreduction\u001B[49m\u001B[43m)\u001B[49m\n",
      "File \u001B[0;32m/usr/local/anaconda3/envs/SeSAC/lib/python3.10/site-packages/torch/nn/functional.py:3113\u001B[0m, in \u001B[0;36mbinary_cross_entropy\u001B[0;34m(input, target, weight, size_average, reduce, reduction)\u001B[0m\n\u001B[1;32m   3111\u001B[0m     reduction_enum \u001B[38;5;241m=\u001B[39m _Reduction\u001B[38;5;241m.\u001B[39mget_enum(reduction)\n\u001B[1;32m   3112\u001B[0m \u001B[38;5;28;01mif\u001B[39;00m target\u001B[38;5;241m.\u001B[39msize() \u001B[38;5;241m!=\u001B[39m \u001B[38;5;28minput\u001B[39m\u001B[38;5;241m.\u001B[39msize():\n\u001B[0;32m-> 3113\u001B[0m     \u001B[38;5;28;01mraise\u001B[39;00m \u001B[38;5;167;01mValueError\u001B[39;00m(\n\u001B[1;32m   3114\u001B[0m         \u001B[38;5;124m\"\u001B[39m\u001B[38;5;124mUsing a target size (\u001B[39m\u001B[38;5;132;01m{}\u001B[39;00m\u001B[38;5;124m) that is different to the input size (\u001B[39m\u001B[38;5;132;01m{}\u001B[39;00m\u001B[38;5;124m) is deprecated. \u001B[39m\u001B[38;5;124m\"\u001B[39m\n\u001B[1;32m   3115\u001B[0m         \u001B[38;5;124m\"\u001B[39m\u001B[38;5;124mPlease ensure they have the same size.\u001B[39m\u001B[38;5;124m\"\u001B[39m\u001B[38;5;241m.\u001B[39mformat(target\u001B[38;5;241m.\u001B[39msize(), \u001B[38;5;28minput\u001B[39m\u001B[38;5;241m.\u001B[39msize())\n\u001B[1;32m   3116\u001B[0m     )\n\u001B[1;32m   3118\u001B[0m \u001B[38;5;28;01mif\u001B[39;00m weight \u001B[38;5;129;01mis\u001B[39;00m \u001B[38;5;129;01mnot\u001B[39;00m \u001B[38;5;28;01mNone\u001B[39;00m:\n\u001B[1;32m   3119\u001B[0m     new_size \u001B[38;5;241m=\u001B[39m _infer_size(target\u001B[38;5;241m.\u001B[39msize(), weight\u001B[38;5;241m.\u001B[39msize())\n",
      "\u001B[0;31mValueError\u001B[0m: Using a target size (torch.Size([8])) that is different to the input size (torch.Size([8, 1])) is deprecated. Please ensure they have the same size."
     ]
    }
   ],
   "source": [
    "for epoch in range(EPOCHS):\n",
    "    epoch_loss = 0.\n",
    "    epoch_corrects = 0\n",
    "    for X, y in data_loader:\n",
    "        X, y = X.to(DEVICE), y.to(DEVICE)\n",
    "\n",
    "        pred = model.forward(X)\n",
    "        print(pred.shape)\n",
    "        print(y.shape)\n",
    "        loss = loss_function(pred, y)\n",
    "        \n",
    "        optimizer.zero_grad()\n",
    "        loss.backward()\n",
    "        optimizer.step()\n",
    "        # print(len(X))\n",
    "        # print(\"loss in batch : \",loss)\n",
    "        \n",
    "        epoch_loss += loss.item() * len(X) \n",
    "        \n",
    "        binary_pred = (pred > 0.5).type(torch.float)\n",
    "        epoch_corrects += (binary_pred == y).sum().item()\n",
    "    \n",
    "    epoch_loss /= N_SAMPLES\n",
    "    losses.append(epoch_loss)\n",
    "    epoch_accuracy = epoch_corrects / N_SAMPLES\n",
    "    accs.append(epoch_accuracy)\n",
    "    \n",
    "    print(f\"Epoch: {epoch + 1}\")\n",
    "    print(f\"Loss: {epoch_loss:.4f} - Accuracy: {epoch_accuracy:.4f}\\n\")"
   ],
   "metadata": {
    "collapsed": false,
    "ExecuteTime": {
     "end_time": "2023-11-20T03:18:04.875886Z",
     "start_time": "2023-11-20T03:18:04.797080Z"
    }
   },
   "id": "fed4b8db70a0238b"
  },
  {
   "cell_type": "code",
   "execution_count": null,
   "outputs": [],
   "source": [
    "fig, axes = plt.subplots(2,1,figsize=(10,5))\n",
    "\n",
    "axes[0].plot(losses)\n",
    "axes[1].plot(accs)\n",
    "\n",
    "axes[1].set_xlabel(\"Epoch\", fontsize=15)\n",
    "axes[0].set_ylabel(\"BCE Loss\", fontsize=15)\n",
    "axes[1].set_ylabel(\"Accuracy\", fontsize=15)\n",
    "axes[0].tick_params(labelsize=10)\n",
    "axes[1].tick_params(labelsize=10)\n",
    "fig.tight_layout()\n",
    "plt.show()"
   ],
   "metadata": {
    "collapsed": false
   },
   "id": "266f9927d2849655"
  },
  {
   "cell_type": "code",
   "execution_count": 60,
   "outputs": [
    {
     "name": "stdout",
     "output_type": "stream",
     "text": [
      "Epoch: 1\n",
      "Loss: 0.0000 - Accuracy: 4.4420\n",
      "Epoch: 2\n",
      "Loss: 0.0000 - Accuracy: 4.4420\n",
      "Epoch: 3\n",
      "Loss: 0.0000 - Accuracy: 4.4420\n",
      "Epoch: 4\n",
      "Loss: 0.0000 - Accuracy: 4.4420\n",
      "Epoch: 5\n",
      "Loss: 0.0000 - Accuracy: 4.4420\n",
      "Epoch: 6\n",
      "Loss: 0.0000 - Accuracy: 4.4420\n",
      "Epoch: 7\n",
      "Loss: 0.0000 - Accuracy: 4.4420\n",
      "Epoch: 8\n",
      "Loss: 0.0000 - Accuracy: 4.4420\n",
      "Epoch: 9\n",
      "Loss: 0.0000 - Accuracy: 4.4420\n",
      "Epoch: 10\n",
      "Loss: 0.0000 - Accuracy: 4.4420\n",
      "Epoch: 11\n",
      "Loss: 0.0000 - Accuracy: 4.4420\n",
      "Epoch: 12\n",
      "Loss: 0.0000 - Accuracy: 4.4420\n",
      "Epoch: 13\n",
      "Loss: 0.0000 - Accuracy: 4.4420\n",
      "Epoch: 14\n",
      "Loss: 0.0000 - Accuracy: 4.4420\n",
      "Epoch: 15\n",
      "Loss: 0.0000 - Accuracy: 4.4420\n",
      "Epoch: 16\n",
      "Loss: 0.0000 - Accuracy: 4.4420\n",
      "Epoch: 17\n",
      "Loss: 0.0000 - Accuracy: 4.4420\n",
      "Epoch: 18\n",
      "Loss: 0.0000 - Accuracy: 4.4420\n",
      "Epoch: 19\n",
      "Loss: 0.0000 - Accuracy: 4.4420\n",
      "Epoch: 20\n",
      "Loss: 0.0000 - Accuracy: 4.4420\n",
      "Epoch: 21\n",
      "Loss: 0.0000 - Accuracy: 4.4420\n",
      "Epoch: 22\n",
      "Loss: 0.0000 - Accuracy: 4.4420\n",
      "Epoch: 23\n",
      "Loss: 0.0000 - Accuracy: 4.4420\n",
      "Epoch: 24\n",
      "Loss: 0.0000 - Accuracy: 4.4420\n",
      "Epoch: 25\n",
      "Loss: 0.0000 - Accuracy: 4.4420\n",
      "Epoch: 26\n",
      "Loss: 0.0000 - Accuracy: 4.4420\n",
      "Epoch: 27\n",
      "Loss: 0.0000 - Accuracy: 4.4420\n",
      "Epoch: 28\n",
      "Loss: 0.0000 - Accuracy: 4.4420\n",
      "Epoch: 29\n",
      "Loss: 0.0000 - Accuracy: 4.4420\n",
      "Epoch: 30\n",
      "Loss: 0.0000 - Accuracy: 4.4420\n",
      "Epoch: 31\n",
      "Loss: 0.0000 - Accuracy: 4.4420\n",
      "Epoch: 32\n",
      "Loss: 0.0000 - Accuracy: 4.4420\n",
      "Epoch: 33\n",
      "Loss: 0.0000 - Accuracy: 4.4420\n",
      "Epoch: 34\n",
      "Loss: 0.0000 - Accuracy: 4.4420\n",
      "Epoch: 35\n",
      "Loss: 0.0000 - Accuracy: 4.4420\n",
      "Epoch: 36\n",
      "Loss: 0.0000 - Accuracy: 4.4420\n",
      "Epoch: 37\n",
      "Loss: 0.0000 - Accuracy: 4.4420\n",
      "Epoch: 38\n",
      "Loss: 0.0000 - Accuracy: 4.4420\n",
      "Epoch: 39\n",
      "Loss: 0.0000 - Accuracy: 4.4420\n",
      "Epoch: 40\n",
      "Loss: 0.0000 - Accuracy: 4.4420\n",
      "Epoch: 41\n",
      "Loss: 0.0000 - Accuracy: 4.4420\n",
      "Epoch: 42\n",
      "Loss: 0.0000 - Accuracy: 4.4420\n",
      "Epoch: 43\n",
      "Loss: 0.0000 - Accuracy: 4.4420\n",
      "Epoch: 44\n",
      "Loss: 0.0000 - Accuracy: 4.4420\n",
      "Epoch: 45\n",
      "Loss: 0.0000 - Accuracy: 4.4420\n"
     ]
    },
    {
     "ename": "KeyboardInterrupt",
     "evalue": "",
     "output_type": "error",
     "traceback": [
      "\u001B[0;31m---------------------------------------------------------------------------\u001B[0m",
      "\u001B[0;31mKeyboardInterrupt\u001B[0m                         Traceback (most recent call last)",
      "Cell \u001B[0;32mIn[60], line 19\u001B[0m\n\u001B[1;32m     17\u001B[0m losses, accs \u001B[38;5;241m=\u001B[39m [],[]\n\u001B[1;32m     18\u001B[0m \u001B[38;5;28;01mfor\u001B[39;00m epoch \u001B[38;5;129;01min\u001B[39;00m \u001B[38;5;28mrange\u001B[39m(EPOCHS):\n\u001B[0;32m---> 19\u001B[0m     epoch_loss, epoch_acc \u001B[38;5;241m=\u001B[39m \u001B[43mtrain\u001B[49m\u001B[43m(\u001B[49m\u001B[43mdataloader\u001B[49m\u001B[43m,\u001B[49m\u001B[43m \u001B[49m\u001B[43mN_SAMPLES\u001B[49m\u001B[43m,\u001B[49m\u001B[43m \u001B[49m\u001B[43mmodel\u001B[49m\u001B[43m,\u001B[49m\u001B[43m \u001B[49m\u001B[43mloss_function\u001B[49m\u001B[43m,\u001B[49m\u001B[43m \u001B[49m\u001B[43moptimizer\u001B[49m\u001B[43m,\u001B[49m\u001B[43mDEVICE\u001B[49m\u001B[43m)\u001B[49m\n\u001B[1;32m     21\u001B[0m     losses\u001B[38;5;241m.\u001B[39mappend(epoch_loss)\n\u001B[1;32m     22\u001B[0m     accs\u001B[38;5;241m.\u001B[39mappend(epoch_acc)\n",
      "File \u001B[0;32m~/Desktop/SeSAC_study/pycharm_project/1120/utils.py:24\u001B[0m, in \u001B[0;36mtrain\u001B[0;34m(data, data_size, model, loss_function, optimizer, DEVICE)\u001B[0m\n\u001B[1;32m     21\u001B[0m pred \u001B[38;5;241m=\u001B[39m model\u001B[38;5;241m.\u001B[39mforward(X)\n\u001B[1;32m     22\u001B[0m loss \u001B[38;5;241m=\u001B[39m loss_function(pred, y)\n\u001B[0;32m---> 24\u001B[0m optimizer\u001B[38;5;241m.\u001B[39mzero_grad()\n\u001B[1;32m     25\u001B[0m loss\u001B[38;5;241m.\u001B[39mbackward()\n\u001B[1;32m     26\u001B[0m optimizer\u001B[38;5;241m.\u001B[39mstep()\n",
      "File \u001B[0;32m/usr/local/anaconda3/envs/SeSAC/lib/python3.10/site-packages/torch/_tensor.py:492\u001B[0m, in \u001B[0;36mTensor.backward\u001B[0;34m(self, gradient, retain_graph, create_graph, inputs)\u001B[0m\n\u001B[1;32m    482\u001B[0m \u001B[38;5;28;01mif\u001B[39;00m has_torch_function_unary(\u001B[38;5;28mself\u001B[39m):\n\u001B[1;32m    483\u001B[0m     \u001B[38;5;28;01mreturn\u001B[39;00m handle_torch_function(\n\u001B[1;32m    484\u001B[0m         Tensor\u001B[38;5;241m.\u001B[39mbackward,\n\u001B[1;32m    485\u001B[0m         (\u001B[38;5;28mself\u001B[39m,),\n\u001B[0;32m   (...)\u001B[0m\n\u001B[1;32m    490\u001B[0m         inputs\u001B[38;5;241m=\u001B[39minputs,\n\u001B[1;32m    491\u001B[0m     )\n\u001B[0;32m--> 492\u001B[0m \u001B[43mtorch\u001B[49m\u001B[38;5;241;43m.\u001B[39;49m\u001B[43mautograd\u001B[49m\u001B[38;5;241;43m.\u001B[39;49m\u001B[43mbackward\u001B[49m\u001B[43m(\u001B[49m\n\u001B[1;32m    493\u001B[0m \u001B[43m    \u001B[49m\u001B[38;5;28;43mself\u001B[39;49m\u001B[43m,\u001B[49m\u001B[43m \u001B[49m\u001B[43mgradient\u001B[49m\u001B[43m,\u001B[49m\u001B[43m \u001B[49m\u001B[43mretain_graph\u001B[49m\u001B[43m,\u001B[49m\u001B[43m \u001B[49m\u001B[43mcreate_graph\u001B[49m\u001B[43m,\u001B[49m\u001B[43m \u001B[49m\u001B[43minputs\u001B[49m\u001B[38;5;241;43m=\u001B[39;49m\u001B[43minputs\u001B[49m\n\u001B[1;32m    494\u001B[0m \u001B[43m\u001B[49m\u001B[43m)\u001B[49m\n",
      "File \u001B[0;32m/usr/local/anaconda3/envs/SeSAC/lib/python3.10/site-packages/torch/autograd/__init__.py:251\u001B[0m, in \u001B[0;36mbackward\u001B[0;34m(tensors, grad_tensors, retain_graph, create_graph, grad_variables, inputs)\u001B[0m\n\u001B[1;32m    246\u001B[0m     retain_graph \u001B[38;5;241m=\u001B[39m create_graph\n\u001B[1;32m    248\u001B[0m \u001B[38;5;66;03m# The reason we repeat the same comment below is that\u001B[39;00m\n\u001B[1;32m    249\u001B[0m \u001B[38;5;66;03m# some Python versions print out the first line of a multi-line function\u001B[39;00m\n\u001B[1;32m    250\u001B[0m \u001B[38;5;66;03m# calls in the traceback and some print out the last line\u001B[39;00m\n\u001B[0;32m--> 251\u001B[0m \u001B[43mVariable\u001B[49m\u001B[38;5;241;43m.\u001B[39;49m\u001B[43m_execution_engine\u001B[49m\u001B[38;5;241;43m.\u001B[39;49m\u001B[43mrun_backward\u001B[49m\u001B[43m(\u001B[49m\u001B[43m  \u001B[49m\u001B[38;5;66;43;03m# Calls into the C++ engine to run the backward pass\u001B[39;49;00m\n\u001B[1;32m    252\u001B[0m \u001B[43m    \u001B[49m\u001B[43mtensors\u001B[49m\u001B[43m,\u001B[49m\n\u001B[1;32m    253\u001B[0m \u001B[43m    \u001B[49m\u001B[43mgrad_tensors_\u001B[49m\u001B[43m,\u001B[49m\n\u001B[1;32m    254\u001B[0m \u001B[43m    \u001B[49m\u001B[43mretain_graph\u001B[49m\u001B[43m,\u001B[49m\n\u001B[1;32m    255\u001B[0m \u001B[43m    \u001B[49m\u001B[43mcreate_graph\u001B[49m\u001B[43m,\u001B[49m\n\u001B[1;32m    256\u001B[0m \u001B[43m    \u001B[49m\u001B[43minputs\u001B[49m\u001B[43m,\u001B[49m\n\u001B[1;32m    257\u001B[0m \u001B[43m    \u001B[49m\u001B[43mallow_unreachable\u001B[49m\u001B[38;5;241;43m=\u001B[39;49m\u001B[38;5;28;43;01mTrue\u001B[39;49;00m\u001B[43m,\u001B[49m\n\u001B[1;32m    258\u001B[0m \u001B[43m    \u001B[49m\u001B[43maccumulate_grad\u001B[49m\u001B[38;5;241;43m=\u001B[39;49m\u001B[38;5;28;43;01mTrue\u001B[39;49;00m\u001B[43m,\u001B[49m\n\u001B[1;32m    259\u001B[0m \u001B[43m\u001B[49m\u001B[43m)\u001B[49m\n",
      "\u001B[0;31mKeyboardInterrupt\u001B[0m: "
     ]
    }
   ],
   "source": [
    "from utils import get_device, get_dataset, train, vis_losses_accs\n",
    "from model import MLP\n",
    "import torch.nn as nn\n",
    "from torch.optim import SGD\n",
    "\n",
    "N_SAMPLES = 300\n",
    "BATCH_SIZE = 8\n",
    "EPOCHS = 100\n",
    "LR = 0.01\n",
    "DEVICE = get_device()\n",
    "\n",
    "dataloader = get_dataset(N_SAMPLES, BATCH_SIZE)\n",
    "\n",
    "model = MLP().to(DEVICE)\n",
    "loss_function = nn.BCELoss()\n",
    "optimizer = SGD(model.parameters(), lr=LR)\n",
    "losses, accs = [],[]\n",
    "for epoch in range(EPOCHS):\n",
    "    epoch_loss, epoch_acc = train(dataloader, N_SAMPLES, model, loss_function, optimizer,DEVICE)\n",
    "    \n",
    "    losses.append(epoch_loss)\n",
    "    accs.append(epoch_acc)\n",
    "    \n",
    "    print(f\"Epoch: {epoch + 1}\")\n",
    "    print(f\"Loss: {epoch_loss:.4f} - Accuracy: {epoch_accuracy:.4f}\\n\")\n",
    "\n",
    "vis_losses_accs(losses,accs)"
   ],
   "metadata": {
    "collapsed": false,
    "ExecuteTime": {
     "end_time": "2023-11-20T02:23:28.117987Z",
     "start_time": "2023-11-20T02:23:13.586292Z"
    }
   },
   "id": "f69884e0ffd106f6"
  },
  {
   "cell_type": "code",
   "execution_count": null,
   "outputs": [],
   "source": [],
   "metadata": {
    "collapsed": false
   },
   "id": "277e599e550c904"
  }
 ],
 "metadata": {
  "kernelspec": {
   "display_name": "Python 3",
   "language": "python",
   "name": "python3"
  },
  "language_info": {
   "codemirror_mode": {
    "name": "ipython",
    "version": 2
   },
   "file_extension": ".py",
   "mimetype": "text/x-python",
   "name": "python",
   "nbconvert_exporter": "python",
   "pygments_lexer": "ipython2",
   "version": "2.7.6"
  }
 },
 "nbformat": 4,
 "nbformat_minor": 5
}
