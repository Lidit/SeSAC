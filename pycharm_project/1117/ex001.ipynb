{
 "cells": [
  {
   "cell_type": "code",
   "execution_count": null,
   "id": "initial_id",
   "metadata": {
    "collapsed": true
   },
   "outputs": [],
   "source": [
    "from sklearn.datasets import make_blobs\n",
    "import matplotlib.pyplot as plt\n",
    "\n",
    "n_samples = 100\n",
    "X, y = make_blobs(n_samples=n_samples, centers=2, n_features=2, cluster_std=0.5)\n",
    "\n",
    "fig, ax = plt.subplots(figsize=(5, 5))\n",
    "\n",
    "ax.scatter(X[:, 0], X[:, 1], c=y, cmap='bwr')\n",
    "# using boolean indexing\n",
    "# X_pos, X_neg = X[y ==1], X[y ==0]\n",
    "# ax.scatter(X_pos[:,0],X_pos[:,1],color='blue')\n",
    "\n",
    "plt.show()"
   ]
  },
  {
   "cell_type": "code",
   "execution_count": null,
   "outputs": [],
   "source": [
    "from sklearn.datasets import make_moons\n",
    "\n",
    "n_samples = 100\n",
    "X, y = make_moons(n_samples=n_samples, noise=0.2)\n",
    "\n",
    "fig, ax = plt.subplots(figsize=(5, 5))\n",
    "\n",
    "ax.scatter(X[:, 0], X[:, 1], c=y, cmap='bwr')\n",
    "# using boolean indexing\n",
    "# X_pos, X_neg = X[y ==1], X[y ==0]\n",
    "# ax.scatter(X_pos[:,0],X_pos[:,1],color='blue')\n",
    "\n",
    "plt.show()"
   ],
   "metadata": {
    "collapsed": false
   },
   "id": "e2e5166cada57155"
  },
  {
   "cell_type": "code",
   "execution_count": null,
   "outputs": [],
   "source": [
    "import torch\n",
    "from torch.utils.data import TensorDataset\n",
    "\n",
    "n_samples = 100\n",
    "X, y = make_blobs(n_samples, centers=2, n_features=2, cluster_std=0.7)\n",
    "\n",
    "dataset = TensorDataset(torch.FloatTensor(X), torch.FloatTensor(y))\n",
    "\n",
    "for X_, y_ in dataset:\n",
    "    print(type(X_), X_.shape, X_.dtype)\n",
    "\n",
    "    print(type(y_), y_.shape, y_.dtype)\n",
    "    break"
   ],
   "metadata": {
    "collapsed": false
   },
   "id": "fb94131e1d535828"
  },
  {
   "cell_type": "code",
   "execution_count": null,
   "outputs": [],
   "source": [
    "from torch.utils.data import DataLoader\n",
    "\n",
    "n_samples = 100\n",
    "X, y = make_blobs(n_samples, centers=2, n_features=2, cluster_std=0.7)\n",
    "\n",
    "dataset = TensorDataset(torch.FloatTensor(X), torch.FloatTensor(y))\n",
    "BATCH_SIZE = 8\n",
    "dataloader = DataLoader(dataset, batch_size=BATCH_SIZE)\n",
    "\n",
    "for X_, y_ in dataloader:\n",
    "    print(type(X_), X_.shape, X_.dtype)\n",
    "\n",
    "    print(type(y_), y_.shape, y_.dtype)\n",
    "    break"
   ],
   "metadata": {
    "collapsed": false
   },
   "id": "1e59943cc6aa2dc"
  },
  {
   "cell_type": "code",
   "execution_count": 26,
   "outputs": [
    {
     "name": "stdout",
     "output_type": "stream",
     "text": [
      "<class 'torch.Tensor'> torch.Size([16, 2]) torch.float32\n",
      "<class 'torch.Tensor'> torch.Size([16]) torch.float32\n"
     ]
    }
   ],
   "source": [
    "n_samples = 100\n",
    "X, y = make_moons(n_samples=n_samples, noise=0.2)\n",
    "dataset = TensorDataset(torch.FloatTensor(X), torch.FloatTensor(y))\n",
    "\n",
    "BATCH_SIZE = 16\n",
    "dataloader = DataLoader(dataset, batch_size=BATCH_SIZE)\n",
    "for X_, y_ in dataloader:\n",
    "    print(type(X_), X_.shape, X_.dtype)\n",
    "\n",
    "    print(type(y_), y_.shape, y_.dtype)\n",
    "    break"
   ],
   "metadata": {
    "collapsed": false,
    "ExecuteTime": {
     "end_time": "2023-11-17T02:00:07.576460Z",
     "start_time": "2023-11-17T02:00:07.569429Z"
    }
   },
   "id": "51a07f6819c62c16"
  },
  {
   "cell_type": "markdown",
   "source": [
    "## nn.Linear\n",
    "### - nn.Linear: fully connected layer\n",
    "### - in_features: 입력 데이터의 차원. 뉴런의 weight개수와 같다\n",
    "### - out_features: 출력 데이터의 차원, 해당 레이어의 뉴런 갯수와 같다"
   ],
   "metadata": {
    "collapsed": false
   },
   "id": "efab4481e7ed25b5"
  },
  {
   "cell_type": "code",
   "execution_count": 31,
   "outputs": [
    {
     "name": "stdout",
     "output_type": "stream",
     "text": [
      "torch.Size([4, 8])\n",
      "torch.Size([4])\n",
      "Linear(in_features=8, out_features=4, bias=True)\n"
     ]
    }
   ],
   "source": [
    "import torch.nn as nn\n",
    "\n",
    "# 뉴런 4개, 각 뉴런의 w 8개 & b 1개, 총 파라미터 36개의 레이어 하나 생성\n",
    "fc = nn.Linear(in_features=8, out_features=4)\n",
    "\n",
    "print(fc.weight.shape)\n",
    "print(fc.bias.shape)"
   ],
   "metadata": {
    "collapsed": false,
    "ExecuteTime": {
     "end_time": "2023-11-17T02:10:37.971330Z",
     "start_time": "2023-11-17T02:10:37.961896Z"
    }
   },
   "id": "47b23c397247f9c8"
  },
  {
   "cell_type": "markdown",
   "source": [
    "![](/Users/bagjuhyeon/Desktop/\"스크린샷 2023-11-17 오전 11.15.22.png\") /Users/bagjuhyeon/Desktop"
   ],
   "metadata": {
    "collapsed": false
   },
   "id": "80a9b53452543eb4"
  },
  {
   "cell_type": "code",
   "execution_count": 32,
   "outputs": [
    {
     "name": "stdout",
     "output_type": "stream",
     "text": [
      "test input: torch.Size([16, 8])\n",
      "test output: torch.Size([16, 4])\n"
     ]
    }
   ],
   "source": [
    "import torch.nn as nn\n",
    "\n",
    "# 뉴런 4개, 각 뉴런의 w 8개 & b 1개, 총 파라미터 36개의 레이어 하나 생성\n",
    "test_input = torch.randn(size=(16, 8))\n",
    "fc = nn.Linear(in_features=8, out_features=4)\n",
    "test_output = fc(test_input)\n",
    "\n",
    "print(f\"test input: {test_input.shape}\")\n",
    "print(f\"test output: {test_output.shape}\")"
   ],
   "metadata": {
    "collapsed": false,
    "ExecuteTime": {
     "end_time": "2023-11-17T02:14:16.900945Z",
     "start_time": "2023-11-17T02:14:16.892869Z"
    }
   },
   "id": "c6b2bb84499cbd5d"
  },
  {
   "cell_type": "code",
   "execution_count": 43,
   "outputs": [
    {
     "name": "stdout",
     "output_type": "stream",
     "text": [
      "===== Test input =====\n",
      "tensor([[ 0.0612, -1.2529,  0.1432],\n",
      "        [ 0.9390,  0.6884,  1.0393]]) \n",
      "\n",
      "===== nn.sigmoid Output =====\n",
      "tensor([[0.5153, 0.2222, 0.5357],\n",
      "        [0.7189, 0.6656, 0.7387]]) \n",
      "\n",
      "===== Manual Computation =====\n",
      "tensor([[0.5153, 0.2222, 0.5357],\n",
      "        [0.7189, 0.6656, 0.7387]])\n"
     ]
    }
   ],
   "source": [
    "test_input = torch.randn(size=(2, 3))\n",
    "sigmoid = nn.Sigmoid()\n",
    "test_output = sigmoid(test_input)\n",
    "\n",
    "print(\"===== Test input =====\")\n",
    "print(test_input, \"\\n\")\n",
    "print(\"===== nn.sigmoid Output =====\")\n",
    "print(test_output, \"\\n\")\n",
    "print(\"===== Manual Computation =====\")\n",
    "print(1 / (1 + torch.exp(-test_input)))"
   ],
   "metadata": {
    "collapsed": false,
    "ExecuteTime": {
     "end_time": "2023-11-17T02:25:36.872958Z",
     "start_time": "2023-11-17T02:25:36.864151Z"
    }
   },
   "id": "313e1b4e3766f5a4"
  },
  {
   "cell_type": "code",
   "execution_count": 42,
   "outputs": [
    {
     "name": "stdout",
     "output_type": "stream",
     "text": [
      "===== Test input =====\n",
      "Pred:  tensor([0.7000])\n",
      "y:  tensor([1.]) \n",
      "\n",
      "===== nn.BCELoss Output =====\n",
      "tensor(0.3567) \n",
      "\n",
      "===== Manual Computation =====\n",
      "tensor([0.3567])\n"
     ]
    }
   ],
   "source": [
    "test_pred = torch.tensor([0.7])\n",
    "test_y = torch.tensor([1.])\n",
    "\n",
    "loss_function = nn.BCELoss()\n",
    "test_output = loss_function(test_pred, test_y)\n",
    "\n",
    "print(\"===== Test input =====\")\n",
    "print(\"Pred: \", test_pred)\n",
    "print(\"y: \", test_y, \"\\n\")\n",
    "print(\"===== nn.BCELoss Output =====\")\n",
    "print(test_output, \"\\n\")\n",
    "print(\"===== Manual Computation =====\")\n",
    "print(-(test_y * torch.log(test_pred) + (1 - test_y) * torch.log(1 - test_pred)))"
   ],
   "metadata": {
    "collapsed": false,
    "ExecuteTime": {
     "end_time": "2023-11-17T02:25:26.591917Z",
     "start_time": "2023-11-17T02:25:26.584463Z"
    }
   },
   "id": "f5e69a186a26e6e4"
  },
  {
   "cell_type": "markdown",
   "source": [
    "# PyTorch Model의 기본 구조"
   ],
   "metadata": {
    "collapsed": false
   },
   "id": "80cb1476089dcdb5"
  },
  {
   "cell_type": "code",
   "execution_count": 44,
   "outputs": [],
   "source": [
    "class Model(nn.Module):\n",
    "    def __init__(self):\n",
    "        super(Model, self).__init__()\n",
    "\n",
    "    def forward(self, x):\n",
    "        pass"
   ],
   "metadata": {
    "collapsed": false,
    "ExecuteTime": {
     "end_time": "2023-11-17T02:43:33.688544Z",
     "start_time": "2023-11-17T02:43:33.680624Z"
    }
   },
   "id": "37cacbfbcde67c8a"
  },
  {
   "cell_type": "markdown",
   "source": [
    "## 실습"
   ],
   "metadata": {
    "collapsed": false
   },
   "id": "d38b5c4e372a2e77"
  },
  {
   "cell_type": "code",
   "execution_count": 46,
   "outputs": [],
   "source": [
    "# 레이어 3개, 초기 input = 10, 최종 Output = 1\n",
    "\n",
    "# 내 설계\n",
    "class Model(nn.Module):\n",
    "    def __init__(self):\n",
    "        super(Model, self).__init__()\n",
    "\n",
    "        self.layer1 = nn.Linear(in_features=10, out_features=5)\n",
    "        self.layer2 = nn.Linear(in_features=5, out_features=2)\n",
    "        self.layer3 = nn.Linear(in_features=2, out_features=1)\n",
    "        self.sigmoid1 = nn.Sigmoid()\n",
    "        self.sigmoid2 = nn.Sigmoid()\n",
    "        self.sigmoid3 = nn.Sigmoid()\n",
    "\n",
    "    def forward(self, x):\n",
    "        # 레이어1 forward\n",
    "        x = self.sigmoid1(self.layer1(x))\n",
    "\n",
    "        # 레이어2 forward\n",
    "        x = self.sigmoid2(self.layer2(x))\n",
    "\n",
    "        # 레이어3 forward, 최종\n",
    "        pred = self.sigmoid3(self.layer3(x))\n",
    "\n",
    "        return pred"
   ],
   "metadata": {
    "collapsed": false,
    "ExecuteTime": {
     "end_time": "2023-11-17T03:17:14.519168Z",
     "start_time": "2023-11-17T03:17:14.509821Z"
    }
   },
   "id": "4e3d5c5a609458fe"
  },
  {
   "cell_type": "code",
   "execution_count": 47,
   "outputs": [],
   "source": [
    "# 예시 설계\n",
    "class Model(nn.Module):\n",
    "    def __init__(self):\n",
    "        super(Model, self).__init__()\n",
    "\n",
    "        self.fc1 = nn.Linear(in_features=10, out_features=5)\n",
    "        self.fc1_act = nn.Sigmoid()\n",
    "\n",
    "        self.fc2 = nn.Linear(in_features=5, out_features=2)\n",
    "        self.fc2_act = nn.Sigmoid()\n",
    "\n",
    "        self.fc3 = nn.Linear(in_features=2, out_features=1)\n",
    "        self.fc3_act = nn.Sigmoid()\n",
    "\n",
    "    def forward(self, x):\n",
    "        # 레이어1 forward\n",
    "        x = self.fc1(x)\n",
    "        x = self.fc1_act1(x)\n",
    "\n",
    "        # 레이어2 forward\n",
    "        x = self.fc2(x)\n",
    "        x = self.fc2_act(x)\n",
    "\n",
    "        # 레이어3 forward, 최종\n",
    "        x = self.fc3(x)\n",
    "        x = self.fc3_act(x)\n",
    "\n",
    "        return x\n"
   ],
   "metadata": {
    "collapsed": false,
    "ExecuteTime": {
     "end_time": "2023-11-17T03:17:41.014707Z",
     "start_time": "2023-11-17T03:17:41.002087Z"
    }
   },
   "id": "5a8685eaaf3e62a7"
  },
  {
   "cell_type": "code",
   "execution_count": 127,
   "outputs": [],
   "source": [
    "N_SAMPLES = 1000\n",
    "BATCH_SIZE = 8\n",
    "X, y = make_blobs(N_SAMPLES, centers=2, n_features=2, cluster_std=0.5)\n",
    "\n",
    "dataset = TensorDataset(torch.FloatTensor(X), torch.FloatTensor(y))\n",
    "data_loader = DataLoader(dataset, batch_size=8)\n",
    "\n",
    "\n",
    "class SimpleModel(nn.Module):\n",
    "    def __init__(self):\n",
    "        super(SimpleModel, self).__init__()\n",
    "\n",
    "        self.fc1 = nn.Linear(in_features=2, out_features=1)  # artificial neuron 1개 (make_blobs로 생성된 데이터는 선형분류 할 수있으므로)\n",
    "        self.fc1_act = nn.Sigmoid()  # binary classification이므로 sigmoid를 activation function 으로 사용\n",
    "\n",
    "    def __call__(self, x):\n",
    "        # 데이터를 인자로 주고 호출시, forward 진행 \n",
    "        x = self.fc1(x)\n",
    "        x = self.fc1_act(x)\n",
    "\n",
    "        x = x.view(-1)  # tensor 를 vector 로 reshape\n",
    "        return x\n"
   ],
   "metadata": {
    "collapsed": false,
    "ExecuteTime": {
     "end_time": "2023-11-17T07:05:57.694469Z",
     "start_time": "2023-11-17T07:05:57.680234Z"
    }
   },
   "id": "ef0ebf11dd8d143"
  },
  {
   "cell_type": "code",
   "execution_count": 128,
   "outputs": [],
   "source": [
    "from torch.optim import SGD\n",
    "\n",
    "LR = 0.01\n",
    "\n",
    "if torch.cuda.is_available():\n",
    "    DEVICE = 'cuda'\n",
    "elif torch.backends.mps.is_available():\n",
    "    DEVICE = 'mps'\n",
    "else:\n",
    "    DEVICE = 'cpu'\n",
    "\n",
    "model = SimpleModel().to(DEVICE)\n",
    "loss_function = nn.BCELoss()\n",
    "optimizer = SGD(model.parameters(), lr=LR)"
   ],
   "metadata": {
    "collapsed": false,
    "ExecuteTime": {
     "end_time": "2023-11-17T07:05:58.331042Z",
     "start_time": "2023-11-17T07:05:58.320395Z"
    }
   },
   "id": "9b5930c2d10aea1e"
  },
  {
   "cell_type": "code",
   "execution_count": 129,
   "outputs": [
    {
     "name": "stdout",
     "output_type": "stream",
     "text": [
      "Epoch: 1\n",
      "Loss: 0.0867 - Accuracy: 1.0000\n",
      "Epoch: 2\n",
      "Loss: 0.0203 - Accuracy: 1.0000\n",
      "Epoch: 3\n",
      "Loss: 0.0119 - Accuracy: 1.0000\n",
      "Epoch: 4\n",
      "Loss: 0.0085 - Accuracy: 1.0000\n",
      "Epoch: 5\n",
      "Loss: 0.0066 - Accuracy: 1.0000\n",
      "Epoch: 6\n",
      "Loss: 0.0054 - Accuracy: 1.0000\n",
      "Epoch: 7\n",
      "Loss: 0.0046 - Accuracy: 1.0000\n",
      "Epoch: 8\n",
      "Loss: 0.0040 - Accuracy: 1.0000\n",
      "Epoch: 9\n",
      "Loss: 0.0035 - Accuracy: 1.0000\n",
      "Epoch: 10\n",
      "Loss: 0.0031 - Accuracy: 1.0000\n"
     ]
    }
   ],
   "source": [
    "EPOCHS = 10\n",
    "losses = list()\n",
    "accs = list()\n",
    "\n",
    "for epoch in range(EPOCHS):\n",
    "    epoch_loss = 0.\n",
    "    epoch_corrects = 0\n",
    "    for X, y in data_loader:\n",
    "        X, y = X.to(DEVICE), y.to(DEVICE)\n",
    "\n",
    "        pred = model(X)\n",
    "        loss = loss_function(pred, y)\n",
    "        \n",
    "        optimizer.zero_grad()\n",
    "        loss.backward()\n",
    "        optimizer.step()\n",
    "        # print(len(X))\n",
    "        # print(\"loss in batch : \",loss)\n",
    "        \n",
    "        epoch_loss += loss.item() * len(X) # batch size의 loss로 변환해 누적 (Tensor 형태의 loss가 scalar 로 전환 되는 과정(?) )\n",
    "        \n",
    "        pred = (pred > 0.5).type(torch.float)\n",
    "        epoch_corrects += (pred == y).sum().item()\n",
    "    \n",
    "    epoch_loss /= N_SAMPLES\n",
    "    losses.append(epoch_loss)\n",
    "    epoch_accuracy = epoch_corrects / N_SAMPLES\n",
    "    accs.append(epoch_accuracy)\n",
    "    \n",
    "    print(f\"Epoch: {epoch + 1}\")\n",
    "    print(f\"Loss: {epoch_loss:.4f} - Accuracy: {epoch_accuracy:.4f}\\n\")\n",
    "\n"
   ],
   "metadata": {
    "collapsed": false,
    "ExecuteTime": {
     "end_time": "2023-11-17T07:06:16.296231Z",
     "start_time": "2023-11-17T07:06:05.273159Z"
    }
   },
   "id": "282f0c6e49e05460"
  },
  {
   "cell_type": "code",
   "execution_count": 130,
   "outputs": [
    {
     "data": {
      "text/plain": "<Figure size 1000x500 with 2 Axes>",
      "image/png": "[encoded data removed]"
     },
     "metadata": {},
     "output_type": "display_data"
    }
   ],
   "source": [
    "# torch.save(model.state_dict(), \"./simple_model_save.h5\")\n",
    "model_scripted = torch.jit.script(model) # TorchScript 형식으로 내보내기\n",
    "model_scripted.save('./model_scripted2.pt')\n",
    "fig, axes = plt.subplots(2,1,figsize=(10,5))\n",
    "\n",
    "axes[0].plot(losses)\n",
    "axes[1].plot(accs)\n",
    "\n",
    "axes[1].set_xlabel(\"Epoch\", fontsize=15)\n",
    "axes[0].set_ylabel(\"BCE Loss\", fontsize=15)\n",
    "axes[1].set_ylabel(\"Accuracy\", fontsize=15)\n",
    "axes[0].tick_params(labelsize=10)\n",
    "axes[1].tick_params(labelsize=10)\n",
    "fig.tight_layout()\n",
    "plt.show()"
   ],
   "metadata": {
    "collapsed": false,
    "ExecuteTime": {
     "end_time": "2023-11-17T07:06:22.668740Z",
     "start_time": "2023-11-17T07:06:22.474349Z"
    }
   },
   "id": "1b6a6e6ccce4a712"
  },
  {
   "cell_type": "code",
   "execution_count": null,
   "outputs": [],
   "source": [],
   "metadata": {
    "collapsed": false
   },
   "id": "44f9bb313317562a"
  }
 ],
 "metadata": {
  "kernelspec": {
   "display_name": "Python 3",
   "language": "python",
   "name": "python3"
  },
  "language_info": {
   "codemirror_mode": {
    "name": "ipython",
    "version": 2
   },
   "file_extension": ".py",
   "mimetype": "text/x-python",
   "name": "python",
   "nbconvert_exporter": "python",
   "pygments_lexer": "ipython2",
   "version": "2.7.6"
  }
 },
 "nbformat": 4,
 "nbformat_minor": 5
}
